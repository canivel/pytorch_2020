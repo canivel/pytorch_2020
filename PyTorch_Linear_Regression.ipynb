{
  "nbformat": 4,
  "nbformat_minor": 0,
  "metadata": {
    "colab": {
      "name": "PyTorch Linear Regression.ipynb",
      "provenance": [],
      "collapsed_sections": []
    },
    "kernelspec": {
      "name": "python3",
      "display_name": "Python 3"
    },
    "accelerator": "GPU"
  },
  "cells": [
    {
      "cell_type": "code",
      "metadata": {
        "id": "qsLqViekTo-d",
        "colab_type": "code",
        "colab": {}
      },
      "source": [
        "import torch\n",
        "import torch.nn as nn\n",
        "import numpy as np\n",
        "import matplotlib.pyplot as plt"
      ],
      "execution_count": 0,
      "outputs": []
    },
    {
      "cell_type": "code",
      "metadata": {
        "id": "JPNNOW5CZXd3",
        "colab_type": "code",
        "colab": {}
      },
      "source": [
        "# we would like to generate 20 data points\n",
        "N = 20\n",
        "\n",
        "# random data on the x-axis in (-5, +5)\n",
        "X = np.random.random(N)*10 - 5\n",
        "\n",
        "# a line plus some noise\n",
        "Y = 0.5 * X - 1 + np.random.randn(N)\n",
        "\n",
        "# you'll have to take my \"in-depth\" series to understand\n",
        "# why this is the CORRECT model to use with our MSE loss"
      ],
      "execution_count": 0,
      "outputs": []
    },
    {
      "cell_type": "code",
      "metadata": {
        "id": "1BuaVYUCZZhR",
        "colab_type": "code",
        "outputId": "0b3e999b-28ae-4dce-cf87-61a6631cf836",
        "colab": {
          "base_uri": "https://localhost:8080/",
          "height": 265
        }
      },
      "source": [
        "# Plot the data\n",
        "plt.scatter(X, Y);"
      ],
      "execution_count": 0,
      "outputs": [
        {
          "output_type": "display_data",
          "data": {
            "image/png": "[encoded data removed]",
            "text/plain": [
              "<Figure size 432x288 with 1 Axes>"
            ]
          },
          "metadata": {
            "tags": []
          }
        }
      ]
    },
    {
      "cell_type": "code",
      "metadata": {
        "id": "N2NcT0z5W1Um",
        "colab_type": "code",
        "colab": {}
      },
      "source": [
        "# Create the linear regression model\n",
        "model = nn.Linear(1, 1)"
      ],
      "execution_count": 0,
      "outputs": []
    },
    {
      "cell_type": "code",
      "metadata": {
        "id": "rvZW03cqW6SS",
        "colab_type": "code",
        "colab": {}
      },
      "source": [
        "# Loss and optimizer\n",
        "criterion = nn.MSELoss()\n",
        "optimizer = torch.optim.SGD(model.parameters(), lr=0.1)"
      ],
      "execution_count": 0,
      "outputs": []
    },
    {
      "cell_type": "code",
      "metadata": {
        "id": "vPrBVibsaWoj",
        "colab_type": "code",
        "colab": {}
      },
      "source": [
        "# In ML we want our data to be of shape:\n",
        "# (num_samples x num_dimensions)\n",
        "X = X.reshape(N, 1)\n",
        "Y = Y.reshape(N, 1)\n",
        "\n",
        "# PyTorch uses float32 by default\n",
        "# Numpy creates float64 by default\n",
        "inputs = torch.from_numpy(X.astype(np.float32))\n",
        "targets = torch.from_numpy(Y.astype(np.float32))"
      ],
      "execution_count": 0,
      "outputs": []
    },
    {
      "cell_type": "code",
      "metadata": {
        "id": "5Zd0PFWBaanm",
        "colab_type": "code",
        "outputId": "065280e6-e13c-497c-a291-cdd934283de6",
        "colab": {
          "base_uri": "https://localhost:8080/",
          "height": 34
        }
      },
      "source": [
        "type(inputs)"
      ],
      "execution_count": 0,
      "outputs": [
        {
          "output_type": "execute_result",
          "data": {
            "text/plain": [
              "torch.Tensor"
            ]
          },
          "metadata": {
            "tags": []
          },
          "execution_count": 7
        }
      ]
    },
    {
      "cell_type": "code",
      "metadata": {
        "id": "LnGJqtXSW_eV",
        "colab_type": "code",
        "outputId": "902d4aaf-067f-408e-89e4-7bce491d2844",
        "colab": {
          "base_uri": "https://localhost:8080/",
          "height": 527
        }
      },
      "source": [
        "# Train the model\n",
        "n_epochs = 30\n",
        "losses = []\n",
        "for it in range(n_epochs):\n",
        "  # zero the parameter gradients\n",
        "  optimizer.zero_grad()\n",
        "\n",
        "  # Forward pass\n",
        "  outputs = model(inputs)\n",
        "  loss = criterion(outputs, targets)\n",
        "\n",
        "  # keep the loss so we can plot it later\n",
        "  losses.append(loss.item())\n",
        "    \n",
        "  # Backward and optimize\n",
        "  loss.backward()\n",
        "  optimizer.step()\n",
        "    \n",
        "  print(f'Epoch {it+1}/{n_epochs}, Loss: {loss.item():.4f}')"
      ],
      "execution_count": 0,
      "outputs": [
        {
          "output_type": "stream",
          "text": [
            "Epoch 1/30, Loss: 22.8189\n",
            "Epoch 2/30, Loss: 14.2234\n",
            "Epoch 3/30, Loss: 9.0066\n",
            "Epoch 4/30, Loss: 5.8387\n",
            "Epoch 5/30, Loss: 3.9138\n",
            "Epoch 6/30, Loss: 2.7433\n",
            "Epoch 7/30, Loss: 2.0312\n",
            "Epoch 8/30, Loss: 1.5977\n",
            "Epoch 9/30, Loss: 1.3335\n",
            "Epoch 10/30, Loss: 1.1724\n",
            "Epoch 11/30, Loss: 1.0742\n",
            "Epoch 12/30, Loss: 1.0141\n",
            "Epoch 13/30, Loss: 0.9775\n",
            "Epoch 14/30, Loss: 0.9550\n",
            "Epoch 15/30, Loss: 0.9413\n",
            "Epoch 16/30, Loss: 0.9329\n",
            "Epoch 17/30, Loss: 0.9277\n",
            "Epoch 18/30, Loss: 0.9245\n",
            "Epoch 19/30, Loss: 0.9226\n",
            "Epoch 20/30, Loss: 0.9214\n",
            "Epoch 21/30, Loss: 0.9207\n",
            "Epoch 22/30, Loss: 0.9202\n",
            "Epoch 23/30, Loss: 0.9199\n",
            "Epoch 24/30, Loss: 0.9197\n",
            "Epoch 25/30, Loss: 0.9196\n",
            "Epoch 26/30, Loss: 0.9196\n",
            "Epoch 27/30, Loss: 0.9195\n",
            "Epoch 28/30, Loss: 0.9195\n",
            "Epoch 29/30, Loss: 0.9195\n",
            "Epoch 30/30, Loss: 0.9195\n"
          ],
          "name": "stdout"
        }
      ]
    },
    {
      "cell_type": "code",
      "metadata": {
        "id": "TtlOBCCyxSda",
        "colab_type": "code",
        "outputId": "bcac09ef-b756-41db-f819-b304706db964",
        "colab": {
          "base_uri": "https://localhost:8080/",
          "height": 265
        }
      },
      "source": [
        "# Plot the loss per iteration\n",
        "plt.plot(losses);"
      ],
      "execution_count": 0,
      "outputs": [
        {
          "output_type": "display_data",
          "data": {
            "image/png": "[encoded data removed]",
            "text/plain": [
              "<Figure size 432x288 with 1 Axes>"
            ]
          },
          "metadata": {
            "tags": []
          }
        }
      ]
    },
    {
      "cell_type": "code",
      "metadata": {
        "id": "cQcBiTDSbjRr",
        "colab_type": "code",
        "outputId": "e48ff2b6-58ce-4247-9cba-ed8f3e2b7ad6",
        "colab": {
          "base_uri": "https://localhost:8080/",
          "height": 265
        }
      },
      "source": [
        "# Plot the graph\n",
        "predicted = model(inputs).detach().numpy()\n",
        "plt.scatter(X, Y, label='Original data')\n",
        "plt.plot(X, predicted, label='Fitted line')\n",
        "plt.legend()\n",
        "plt.show()"
      ],
      "execution_count": 0,
      "outputs": [
        {
          "output_type": "display_data",
          "data": {
            "image/png": "[encoded data removed]",
            "text/plain": [
              "<Figure size 432x288 with 1 Axes>"
            ]
          },
          "metadata": {
            "tags": []
          }
        }
      ]
    },
    {
      "cell_type": "code",
      "metadata": {
        "id": "2fewYK_fkRpe",
        "colab_type": "code",
        "outputId": "c04c49d7-b155-4da4-95c8-7b754e92a1f2",
        "colab": {
          "base_uri": "https://localhost:8080/",
          "height": 164
        }
      },
      "source": [
        "# Error!\n",
        "model(inputs).numpy()"
      ],
      "execution_count": 0,
      "outputs": [
        {
          "output_type": "error",
          "ename": "RuntimeError",
          "evalue": "ignored",
          "traceback": [
            "\u001b[0;31m---------------------------------------------------------------------------\u001b[0m",
            "\u001b[0;31mRuntimeError\u001b[0m                              Traceback (most recent call last)",
            "\u001b[0;32m<ipython-input-15-4ec109debb8c>\u001b[0m in \u001b[0;36m<module>\u001b[0;34m()\u001b[0m\n\u001b[0;32m----> 1\u001b[0;31m \u001b[0mmodel\u001b[0m\u001b[0;34m(\u001b[0m\u001b[0minputs\u001b[0m\u001b[0;34m)\u001b[0m\u001b[0;34m.\u001b[0m\u001b[0mnumpy\u001b[0m\u001b[0;34m(\u001b[0m\u001b[0;34m)\u001b[0m\u001b[0;34m\u001b[0m\u001b[0;34m\u001b[0m\u001b[0m\n\u001b[0m",
            "\u001b[0;31mRuntimeError\u001b[0m: Can't call numpy() on Variable that requires grad. Use var.detach().numpy() instead."
          ]
        }
      ]
    },
    {
      "cell_type": "code",
      "metadata": {
        "id": "4U2GDt2Ck6cB",
        "colab_type": "code",
        "outputId": "814c4908-0b2d-4f04-a55f-ff1056a962e7",
        "colab": {
          "base_uri": "https://localhost:8080/",
          "height": 357
        }
      },
      "source": [
        "# Another way\n",
        "with torch.no_grad():\n",
        "  out = model(inputs).numpy()\n",
        "out"
      ],
      "execution_count": 0,
      "outputs": [
        {
          "output_type": "execute_result",
          "data": {
            "text/plain": [
              "array([[-2.6271803 ],\n",
              "       [ 0.87288046],\n",
              "       [-0.19316864],\n",
              "       [-1.3513957 ],\n",
              "       [-2.831855  ],\n",
              "       [-1.2565557 ],\n",
              "       [-3.1481168 ],\n",
              "       [-1.3774077 ],\n",
              "       [-1.3938689 ],\n",
              "       [-2.2506328 ],\n",
              "       [ 0.2008456 ],\n",
              "       [ 0.91473365],\n",
              "       [ 0.09999967],\n",
              "       [-1.5727961 ],\n",
              "       [ 0.07717192],\n",
              "       [-2.5789757 ],\n",
              "       [-2.4867063 ],\n",
              "       [-0.1144067 ],\n",
              "       [ 0.89319706],\n",
              "       [-2.9867918 ]], dtype=float32)"
            ]
          },
          "metadata": {
            "tags": []
          },
          "execution_count": 16
        }
      ]
    },
    {
      "cell_type": "code",
      "metadata": {
        "id": "HyWDprSQP5ON",
        "colab_type": "code",
        "outputId": "9533c366-92f4-42ae-8a29-636351e778b7",
        "colab": {
          "base_uri": "https://localhost:8080/",
          "height": 34
        }
      },
      "source": [
        "# Important!\n",
        "# In order to test the efficacy of our model, synthetic data is useful\n",
        "# Why?\n",
        "# Because ***we know the answer***\n",
        "# True values of (w, b) are (0.5, -1)\n",
        "w = model.weight.data.numpy()\n",
        "b = model.bias.data.numpy()\n",
        "print(w, b)"
      ],
      "execution_count": 0,
      "outputs": [
        {
          "output_type": "stream",
          "text": [
            "[[0.45791003]] [-1.2011197]\n"
          ],
          "name": "stdout"
        }
      ]
    }
  ]
}